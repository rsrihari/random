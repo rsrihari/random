{
 "metadata": {
  "name": "",
  "signature": "sha256:1cc0989dff45192adcdb0ea752400c96ca4f1eadff2e6142441fbf622161ec8d"
 },
 "nbformat": 3,
 "nbformat_minor": 0,
 "worksheets": [
  {
   "cells": [
    {
     "cell_type": "code",
     "collapsed": false,
     "input": [
      "import pandas as pd\n",
      "import numpy as np\n",
      "xlfile=pd.ExcelFile('/home/rsrihari/Documents/DataPowercons/vigilance_final.xlsx')\n",
      "df=xlfile.parse('Sheet1')\n",
      "df.head(10)"
     ],
     "language": "python",
     "metadata": {},
     "outputs": [
      {
       "html": [
        "<div style=\"max-height:1000px;max-width:1500px;overflow:auto;\">\n",
        "<table border=\"1\" class=\"dataframe\">\n",
        "  <thead>\n",
        "    <tr style=\"text-align: right;\">\n",
        "      <th></th>\n",
        "      <th>Sr.No</th>\n",
        "      <th>ID</th>\n",
        "      <th>Date of Detection</th>\n",
        "      <th>IND</th>\n",
        "    </tr>\n",
        "  </thead>\n",
        "  <tbody>\n",
        "    <tr>\n",
        "      <th>0</th>\n",
        "      <td>  1</td>\n",
        "      <td>  17961</td>\n",
        "      <td>2014-06-18</td>\n",
        "      <td> 0</td>\n",
        "    </tr>\n",
        "    <tr>\n",
        "      <th>1</th>\n",
        "      <td>  2</td>\n",
        "      <td>  27511</td>\n",
        "      <td>2014-08-01</td>\n",
        "      <td> 0</td>\n",
        "    </tr>\n",
        "    <tr>\n",
        "      <th>2</th>\n",
        "      <td>  3</td>\n",
        "      <td>  28261</td>\n",
        "      <td>2014-11-10</td>\n",
        "      <td> 0</td>\n",
        "    </tr>\n",
        "    <tr>\n",
        "      <th>3</th>\n",
        "      <td>  4</td>\n",
        "      <td>  32251</td>\n",
        "      <td>2014-08-04</td>\n",
        "      <td> 0</td>\n",
        "    </tr>\n",
        "    <tr>\n",
        "      <th>4</th>\n",
        "      <td>  5</td>\n",
        "      <td>  38851</td>\n",
        "      <td>2014-10-01</td>\n",
        "      <td> 0</td>\n",
        "    </tr>\n",
        "    <tr>\n",
        "      <th>5</th>\n",
        "      <td>  6</td>\n",
        "      <td>  47821</td>\n",
        "      <td>2013-04-08</td>\n",
        "      <td> 1</td>\n",
        "    </tr>\n",
        "    <tr>\n",
        "      <th>6</th>\n",
        "      <td>  7</td>\n",
        "      <td>  86241</td>\n",
        "      <td>2014-09-13</td>\n",
        "      <td> 0</td>\n",
        "    </tr>\n",
        "    <tr>\n",
        "      <th>7</th>\n",
        "      <td>  8</td>\n",
        "      <td>  87921</td>\n",
        "      <td>2011-12-15</td>\n",
        "      <td> 1</td>\n",
        "    </tr>\n",
        "    <tr>\n",
        "      <th>8</th>\n",
        "      <td>  9</td>\n",
        "      <td> 123901</td>\n",
        "      <td>2014-07-21</td>\n",
        "      <td> 0</td>\n",
        "    </tr>\n",
        "    <tr>\n",
        "      <th>9</th>\n",
        "      <td> 10</td>\n",
        "      <td> 134721</td>\n",
        "      <td>2015-01-27</td>\n",
        "      <td> 0</td>\n",
        "    </tr>\n",
        "  </tbody>\n",
        "</table>\n",
        "</div>"
       ],
       "metadata": {},
       "output_type": "pyout",
       "prompt_number": 11,
       "text": [
        "   Sr.No      ID Date of Detection  IND\n",
        "0      1   17961        2014-06-18    0\n",
        "1      2   27511        2014-08-01    0\n",
        "2      3   28261        2014-11-10    0\n",
        "3      4   32251        2014-08-04    0\n",
        "4      5   38851        2014-10-01    0\n",
        "5      6   47821        2013-04-08    1\n",
        "6      7   86241        2014-09-13    0\n",
        "7      8   87921        2011-12-15    1\n",
        "8      9  123901        2014-07-21    0\n",
        "9     10  134721        2015-01-27    0"
       ]
      }
     ],
     "prompt_number": 11
    },
    {
     "cell_type": "code",
     "collapsed": false,
     "input": [
      "ids_0=[]\n",
      "ids_1=[]\n",
      "for i in df.iterrows():\n",
      "    if i[1]['IND']==0:\n",
      "        ids_0.append(i[1]['ID'])\n",
      "    if i[1]['IND']==1:\n",
      "        ids_1.append(i[1]['ID'])\n",
      "print ids_0[:5]       "
     ],
     "language": "python",
     "metadata": {},
     "outputs": [
      {
       "output_type": "stream",
       "stream": "stdout",
       "text": [
        "[17961, 27511, 28261, 32251, 38851]\n"
       ]
      }
     ],
     "prompt_number": 12
    },
    {
     "cell_type": "code",
     "collapsed": false,
     "input": [],
     "language": "python",
     "metadata": {},
     "outputs": [],
     "prompt_number": 79
    },
    {
     "cell_type": "code",
     "collapsed": false,
     "input": [
      "import pandas as pd\n",
      "npcc=pd.read_csv('/home/rsrihari/Documents/DataPowercons/NPC Complaint details_Done.txt')\n",
      "npcc.head()"
     ],
     "language": "python",
     "metadata": {},
     "outputs": [
      {
       "html": [
        "<div style=\"max-height:1000px;max-width:1500px;overflow:auto;\">\n",
        "<table border=\"1\" class=\"dataframe\">\n",
        "  <thead>\n",
        "    <tr style=\"text-align: right;\">\n",
        "      <th></th>\n",
        "      <th>FLM_SERVICENUMBER</th>\n",
        "      <th>COMPNO</th>\n",
        "      <th>COMP_REG_DATE</th>\n",
        "      <th>COMP_COLSE_DATE</th>\n",
        "      <th>FLM_COMPTYPE</th>\n",
        "      <th>CMTM_NAME</th>\n",
        "      <th>CWM_RNAME</th>\n",
        "      <th>HOUR</th>\n",
        "    </tr>\n",
        "  </thead>\n",
        "  <tbody>\n",
        "    <tr>\n",
        "      <th>0</th>\n",
        "      <td> 11436201</td>\n",
        "      <td>  CN/14/10/13175</td>\n",
        "      <td> 2013-10-14 19:00:00</td>\n",
        "      <td> 2013-10-14 19:20:00</td>\n",
        "      <td> 4</td>\n",
        "      <td> Supply Related Complaints</td>\n",
        "      <td>  Main loop wire repair (MLWR)</td>\n",
        "      <td> 1200</td>\n",
        "    </tr>\n",
        "    <tr>\n",
        "      <th>1</th>\n",
        "      <td>  7436201</td>\n",
        "      <td>  CN/06/11/12152</td>\n",
        "      <td> 2012-11-06 19:00:00</td>\n",
        "      <td> 2012-11-06 19:16:00</td>\n",
        "      <td> 4</td>\n",
        "      <td> Supply Related Complaints</td>\n",
        "      <td> Low tension fuse repair(LTFR)</td>\n",
        "      <td>  959</td>\n",
        "    </tr>\n",
        "    <tr>\n",
        "      <th>2</th>\n",
        "      <td>  7436201</td>\n",
        "      <td>  CN/08/05/12348</td>\n",
        "      <td> 2012-05-08 19:15:00</td>\n",
        "      <td> 2012-05-08 19:40:00</td>\n",
        "      <td> 4</td>\n",
        "      <td> Supply Related Complaints</td>\n",
        "      <td> Low tension fuse repair(LTFR)</td>\n",
        "      <td> 1499</td>\n",
        "    </tr>\n",
        "    <tr>\n",
        "      <th>3</th>\n",
        "      <td> 39536201</td>\n",
        "      <td>  CN/19/06/13173</td>\n",
        "      <td> 2013-06-19 17:57:00</td>\n",
        "      <td> 2013-06-19 20:00:00</td>\n",
        "      <td> 4</td>\n",
        "      <td> Supply Related Complaints</td>\n",
        "      <td>  Main loop wire repair (MLWR)</td>\n",
        "      <td> 7380</td>\n",
        "    </tr>\n",
        "    <tr>\n",
        "      <th>4</th>\n",
        "      <td> 51636201</td>\n",
        "      <td> CN/02/09/114430</td>\n",
        "      <td> 2011-09-02 15:03:00</td>\n",
        "      <td> 2011-09-02 16:09:00</td>\n",
        "      <td> 4</td>\n",
        "      <td> Supply Related Complaints</td>\n",
        "      <td>      Snapping of conductor-LT</td>\n",
        "      <td> 3960</td>\n",
        "    </tr>\n",
        "  </tbody>\n",
        "</table>\n",
        "</div>"
       ],
       "metadata": {},
       "output_type": "pyout",
       "prompt_number": 80,
       "text": [
        "   FLM_SERVICENUMBER           COMPNO        COMP_REG_DATE  \\\n",
        "0           11436201   CN/14/10/13175  2013-10-14 19:00:00   \n",
        "1            7436201   CN/06/11/12152  2012-11-06 19:00:00   \n",
        "2            7436201   CN/08/05/12348  2012-05-08 19:15:00   \n",
        "3           39536201   CN/19/06/13173  2013-06-19 17:57:00   \n",
        "4           51636201  CN/02/09/114430  2011-09-02 15:03:00   \n",
        "\n",
        "       COMP_COLSE_DATE  FLM_COMPTYPE                  CMTM_NAME  \\\n",
        "0  2013-10-14 19:20:00             4  Supply Related Complaints   \n",
        "1  2012-11-06 19:16:00             4  Supply Related Complaints   \n",
        "2  2012-05-08 19:40:00             4  Supply Related Complaints   \n",
        "3  2013-06-19 20:00:00             4  Supply Related Complaints   \n",
        "4  2011-09-02 16:09:00             4  Supply Related Complaints   \n",
        "\n",
        "                       CWM_RNAME  HOUR  \n",
        "0   Main loop wire repair (MLWR)  1200  \n",
        "1  Low tension fuse repair(LTFR)   959  \n",
        "2  Low tension fuse repair(LTFR)  1499  \n",
        "3   Main loop wire repair (MLWR)  7380  \n",
        "4       Snapping of conductor-LT  3960  "
       ]
      }
     ],
     "prompt_number": 80
    },
    {
     "cell_type": "code",
     "collapsed": false,
     "input": [
      "f=open('/home/rsrihari/Documents/DataPowercons/dictofids')\n",
      "data=f.read()\n",
      "noofcomplaints=eval(data)"
     ],
     "language": "python",
     "metadata": {},
     "outputs": [],
     "prompt_number": 81
    },
    {
     "cell_type": "code",
     "collapsed": false,
     "input": [
      "from collections import defaultdict\n",
      "frauds=defaultdict(int)\n",
      "nonfrauds=defaultdict(int)\n",
      "for i in noofcomplaints.keys():\n",
      "    if i in ids_0:\n",
      "        nonfrauds[i]=noofcomplaints[i]\n",
      "    if i in ids_1:\n",
      "        frauds[i]=noofcomplaints[i]\n"
     ],
     "language": "python",
     "metadata": {},
     "outputs": [],
     "prompt_number": 83
    },
    {
     "cell_type": "code",
     "collapsed": false,
     "input": [
      "len(noofcomplaints.keys())"
     ],
     "language": "python",
     "metadata": {},
     "outputs": []
    },
    {
     "cell_type": "code",
     "collapsed": false,
     "input": [
      "number_0=defaultdict(int)\n",
      "number_1=defaultdict(int)\n",
      "for i in frauds.keys():\n",
      "    number_1[frauds[i]]+=1\n",
      "for i in nonfrauds.keys():\n",
      "    number_0[nonfrauds[i]]+=1\n",
      "    "
     ],
     "language": "python",
     "metadata": {},
     "outputs": [],
     "prompt_number": 64
    },
    {
     "cell_type": "code",
     "collapsed": false,
     "input": [
      "47821 in frauds.keys()"
     ],
     "language": "python",
     "metadata": {},
     "outputs": [
      {
       "metadata": {},
       "output_type": "pyout",
       "prompt_number": 65,
       "text": [
        "True"
       ]
      }
     ],
     "prompt_number": 65
    },
    {
     "cell_type": "code",
     "collapsed": false,
     "input": [
      "sum=0\n",
      "for i in number_1.keys():\n",
      "    sum+=number_1[i]\n",
      "sum\n"
     ],
     "language": "python",
     "metadata": {},
     "outputs": [
      {
       "metadata": {},
       "output_type": "pyout",
       "prompt_number": 55,
       "text": [
        "3564"
       ]
      }
     ],
     "prompt_number": 55
    },
    {
     "cell_type": "code",
     "collapsed": false,
     "input": [
      "27511 in nonfrauds.keys()"
     ],
     "language": "python",
     "metadata": {},
     "outputs": [
      {
       "metadata": {},
       "output_type": "pyout",
       "prompt_number": 72,
       "text": [
        "True"
       ]
      }
     ],
     "prompt_number": 72
    },
    {
     "cell_type": "code",
     "collapsed": false,
     "input": [
      "number_1"
     ],
     "language": "python",
     "metadata": {},
     "outputs": [
      {
       "metadata": {},
       "output_type": "pyout",
       "prompt_number": 73,
       "text": [
        "defaultdict(<type 'int'>, {1: 2097, 2: 914, 3: 312, 4: 127, 5: 46, 6: 33, 7: 21, 8: 6, 9: 5, 10: 2, 11: 1})"
       ]
      }
     ],
     "prompt_number": 73
    },
    {
     "cell_type": "code",
     "collapsed": false,
     "input": [
      "number_0"
     ],
     "language": "python",
     "metadata": {},
     "outputs": [
      {
       "metadata": {},
       "output_type": "pyout",
       "prompt_number": 75,
       "text": [
        "defaultdict(<type 'int'>, {1: 3725, 2: 1527, 3: 514, 4: 202, 5: 86, 6: 28, 7: 20, 8: 7, 9: 5, 10: 2, 35: 1})"
       ]
      }
     ],
     "prompt_number": 75
    },
    {
     "cell_type": "code",
     "collapsed": false,
     "input": [
      "import matplotlib.pyplot as plt\n",
      "plt.bar([1.05,2.05,3.05,4.05,5.05,6.05], [number_1[1],number_1[2],number_1[3],number_1[4],number_1[5],number_1[6]], width=0.35)\n",
      "plt.bar([1.40,2.40,3.4,4.4,5.4,6.4], [number_0[1],number_0[2],number_0[3],number_0[4],number_0[5],number_0[6]], width=0.35,color='red')"
     ],
     "language": "python",
     "metadata": {},
     "outputs": [
      {
       "metadata": {},
       "output_type": "pyout",
       "prompt_number": 97,
       "text": [
        "<Container object of 6 artists>"
       ]
      }
     ],
     "prompt_number": 97
    },
    {
     "cell_type": "code",
     "collapsed": false,
     "input": [
      "plt.show()"
     ],
     "language": "python",
     "metadata": {},
     "outputs": []
    },
    {
     "cell_type": "code",
     "collapsed": false,
     "input": [
      "import pandas as pd\n",
      "import numpy as np\n",
      "mergef=pd.read_csv('/home/rsrihari/Downloads/merge_final.csv')"
     ],
     "language": "python",
     "metadata": {},
     "outputs": [],
     "prompt_number": 28
    },
    {
     "cell_type": "code",
     "collapsed": false,
     "input": [
      "mergef.info()"
     ],
     "language": "python",
     "metadata": {},
     "outputs": [
      {
       "output_type": "stream",
       "stream": "stdout",
       "text": [
        "<class 'pandas.core.frame.DataFrame'>\n",
        "Int64Index: 16214 entries, 0 to 16213\n",
        "Data columns (total 55 columns):\n",
        "\"\"                             16214 non-null object\n",
        "\"ID\"                           16214 non-null int64\n",
        "\"Date.of.Detection\"            16214 non-null object\n",
        "\"IND\"                          16214 non-null int64\n",
        "\"SDBM_SERVICE_NO\"              16208 non-null float64\n",
        "\"SDBM_BU_ID\"                   16208 non-null float64\n",
        "\"SDBM_PC_ID\"                   16208 non-null float64\n",
        "\"SDMB_MR_ID\"                   16208 non-null float64\n",
        "\"SDMB_LOT_ID\"                  16208 non-null float64\n",
        "\"SDBM_MONTH_YR\"                16208 non-null float64\n",
        "\"SDBM_BILL_DATE\"               16208 non-null object\n",
        "\"SDBM_DUE_DATE\"                16208 non-null object\n",
        "\"SDBM_READING_DATE\"            16208 non-null object\n",
        "\"SDBM_PREVIOU_READING_DATE\"    16208 non-null object\n",
        "\"SDBM_DISCOUNT_DATE\"           16208 non-null object\n",
        "\"SDBM_BILLING_DAYS\"            16208 non-null float64\n",
        "\"SDBM_PHASE\"                   16208 non-null float64\n",
        "\"SDBM_SANCTION_LOAD\"           16208 non-null float64\n",
        "\"SDBM_CONNECTION_LOAD\"         16208 non-null float64\n",
        "\"SDBM_TRANSFORMER_NO\"          16208 non-null float64\n",
        "\"SDBM_POLE_ID\"                 16208 non-null object\n",
        "\"SDBM_DISCONN_TAG_ID\"          16208 non-null object\n",
        "\"SDBM_LO_ID\"                   16208 non-null float64\n",
        "\"SDBM_TOTAL_ARREAR\"            16208 non-null float64\n",
        "\"SDBM_SD_AMT\"                  16208 non-null float64\n",
        "\"SDBM_LAST_RECEIPT_AMT\"        16208 non-null float64\n",
        "\"SDBM_LAST_RECEIPT_DATE\"       16208 non-null object\n",
        "\"SDBM_CONSUMPTION\"             16208 non-null object\n",
        "\"con.201308\"                   15109 non-null float64\n",
        "\"con.201309\"                   15198 non-null float64\n",
        "\"con.201310\"                   15241 non-null float64\n",
        "\"con.201311\"                   15295 non-null float64\n",
        "\"con.201312\"                   15380 non-null float64\n",
        "\"con.201401\"                   15443 non-null float64\n",
        "\"con.201402\"                   15512 non-null float64\n",
        "\"con.201403\"                   15553 non-null float64\n",
        "\"con.201404\"                   15604 non-null float64\n",
        "\"con.201405\"                   15706 non-null float64\n",
        "\"con.201406\"                   15776 non-null float64\n",
        "\"con.201407\"                   15848 non-null float64\n",
        "\"con.201408\"                   15928 non-null float64\n",
        "\"con.201409\"                   16020 non-null float64\n",
        "\"con.201410\"                   16093 non-null float64\n",
        "\"con.201411\"                   15999 non-null float64\n",
        "\"con.201412\"                   2531 non-null float64\n",
        "COM_SERVICE_NO                 16214 non-null int64\n",
        "COMPMNTH                       16214 non-null object\n",
        "OCRM_NAME                      16214 non-null int64\n",
        "IND                            16214 non-null int64\n",
        "\"\".1                           16214 non-null object\n",
        "\"X\"                            16214 non-null int64\n",
        "\"ID\".1                         16214 non-null int64\n",
        "\"No.of time payment done\"      16214 non-null int64\n",
        "\"average amount per month\"     15795 non-null float64\n",
        "\"IND\".1                        16214 non-null int64\n",
        "dtypes: float64(33), int64(9), object(13)\n",
        "memory usage: 6.9+ MB\n"
       ]
      }
     ],
     "prompt_number": 29
    },
    {
     "cell_type": "code",
     "collapsed": false,
     "input": [
      "import pandas as pd\n",
      "import numpy as np\n",
      "mergesec=pd.read_csv('/home/rsrihari/Downloads/merge_3.csv')\n",
      "mergesec.info()"
     ],
     "language": "python",
     "metadata": {},
     "outputs": [
      {
       "output_type": "stream",
       "stream": "stdout",
       "text": [
        "<class 'pandas.core.frame.DataFrame'>\n",
        "Int64Index: 459 entries, 0 to 458\n",
        "Data columns (total 56 columns):\n",
        "Unnamed: 0                      459 non-null int64\n",
        "X..                             459 non-null object\n",
        "X.ID.                           459 non-null int64\n",
        "X.Date.of.Detection.            459 non-null object\n",
        "X.IND.                          459 non-null int64\n",
        "X.SDBM_SERVICE_NO.              459 non-null int64\n",
        "X.SDBM_BU_ID.                   459 non-null int64\n",
        "X.SDBM_PC_ID.                   459 non-null int64\n",
        "X.SDMB_MR_ID.                   459 non-null int64\n",
        "X.SDMB_LOT_ID.                  459 non-null int64\n",
        "X.SDBM_MONTH_YR.                459 non-null int64\n",
        "X.SDBM_BILL_DATE.               459 non-null object\n",
        "X.SDBM_DUE_DATE.                459 non-null object\n",
        "X.SDBM_READING_DATE.            459 non-null object\n",
        "X.SDBM_PREVIOU_READING_DATE.    459 non-null object\n",
        "X.SDBM_DISCOUNT_DATE.           459 non-null object\n",
        "X.SDBM_BILLING_DAYS.            459 non-null int64\n",
        "X.SDBM_PHASE.                   459 non-null int64\n",
        "X.SDBM_SANCTION_LOAD.           459 non-null float64\n",
        "X.SDBM_CONNECTION_LOAD.         459 non-null float64\n",
        "X.SDBM_TRANSFORMER_NO.          459 non-null int64\n",
        "X.SDBM_POLE_ID.                 459 non-null object\n",
        "X.SDBM_DISCONN_TAG_ID.          459 non-null object\n",
        "X.SDBM_LO_ID.                   459 non-null int64\n",
        "X.SDBM_TOTAL_ARREAR.            459 non-null float64\n",
        "X.SDBM_SD_AMT.                  459 non-null float64\n",
        "X.SDBM_LAST_RECEIPT_AMT.        459 non-null float64\n",
        "X.SDBM_LAST_RECEIPT_DATE.       459 non-null object\n",
        "X.SDBM_CONSUMPTION.             459 non-null object\n",
        "X.con.201308.                   425 non-null float64\n",
        "X.con.201309.                   431 non-null float64\n",
        "X.con.201310.                   431 non-null float64\n",
        "X.con.201311.                   434 non-null float64\n",
        "X.con.201312.                   436 non-null float64\n",
        "X.con.201401.                   437 non-null float64\n",
        "X.con.201402.                   439 non-null float64\n",
        "X.con.201403.                   439 non-null float64\n",
        "X.con.201404.                   440 non-null float64\n",
        "X.con.201405.                   444 non-null float64\n",
        "X.con.201406.                   448 non-null float64\n",
        "X.con.201407.                   450 non-null float64\n",
        "X.con.201408.                   451 non-null float64\n",
        "X.con.201409.                   453 non-null float64\n",
        "X.con.201410.                   456 non-null float64\n",
        "X.con.201411.                   447 non-null float64\n",
        "X.con.201412.                   79 non-null float64\n",
        "COM_SERVICE_NO                  459 non-null int64\n",
        "COMPMNTH                        459 non-null object\n",
        "OCRM_NAME                       459 non-null int64\n",
        "IND                             459 non-null int64\n",
        "X...1                           459 non-null object\n",
        "X.X.                            459 non-null int64\n",
        "X.ID..1                         459 non-null int64\n",
        "X.No.of.time.payment.done.      459 non-null int64\n",
        "X.average.amount.per.month.     442 non-null float64\n",
        "X.IND..1                        459 non-null int64\n",
        "dtypes: float64(23), int64(20), object(13)\n",
        "memory usage: 204.4+ KB\n"
       ]
      }
     ],
     "prompt_number": 9
    },
    {
     "cell_type": "code",
     "collapsed": false,
     "input": [
      "import pandas as pd\n",
      "import numpy as np\n",
      "merge_1=pd.read_csv('/home/rsrihari/Downloads/merge_1.csv')\n",
      "mergef.info()"
     ],
     "language": "python",
     "metadata": {},
     "outputs": [
      {
       "output_type": "stream",
       "stream": "stdout",
       "text": [
        "<class 'pandas.core.frame.DataFrame'>\n",
        "Int64Index: 16214 entries, 0 to 16213\n",
        "Data columns (total 55 columns):\n",
        "\"\"                             16214 non-null object\n",
        "\"ID\"                           16214 non-null int64\n",
        "\"Date.of.Detection\"            16214 non-null object\n",
        "\"IND\"                          16214 non-null int64\n",
        "\"SDBM_SERVICE_NO\"              16208 non-null float64\n",
        "\"SDBM_BU_ID\"                   16208 non-null float64\n",
        "\"SDBM_PC_ID\"                   16208 non-null float64\n",
        "\"SDMB_MR_ID\"                   16208 non-null float64\n",
        "\"SDMB_LOT_ID\"                  16208 non-null float64\n",
        "\"SDBM_MONTH_YR\"                16208 non-null float64\n",
        "\"SDBM_BILL_DATE\"               16208 non-null object\n",
        "\"SDBM_DUE_DATE\"                16208 non-null object\n",
        "\"SDBM_READING_DATE\"            16208 non-null object\n",
        "\"SDBM_PREVIOU_READING_DATE\"    16208 non-null object\n",
        "\"SDBM_DISCOUNT_DATE\"           16208 non-null object\n",
        "\"SDBM_BILLING_DAYS\"            16208 non-null float64\n",
        "\"SDBM_PHASE\"                   16208 non-null float64\n",
        "\"SDBM_SANCTION_LOAD\"           16208 non-null float64\n",
        "\"SDBM_CONNECTION_LOAD\"         16208 non-null float64\n",
        "\"SDBM_TRANSFORMER_NO\"          16208 non-null float64\n",
        "\"SDBM_POLE_ID\"                 16208 non-null object\n",
        "\"SDBM_DISCONN_TAG_ID\"          16208 non-null object\n",
        "\"SDBM_LO_ID\"                   16208 non-null float64\n",
        "\"SDBM_TOTAL_ARREAR\"            16208 non-null float64\n",
        "\"SDBM_SD_AMT\"                  16208 non-null float64\n",
        "\"SDBM_LAST_RECEIPT_AMT\"        16208 non-null float64\n",
        "\"SDBM_LAST_RECEIPT_DATE\"       16208 non-null object\n",
        "\"SDBM_CONSUMPTION\"             16208 non-null object\n",
        "\"con.201308\"                   15109 non-null float64\n",
        "\"con.201309\"                   15198 non-null float64\n",
        "\"con.201310\"                   15241 non-null float64\n",
        "\"con.201311\"                   15295 non-null float64\n",
        "\"con.201312\"                   15380 non-null float64\n",
        "\"con.201401\"                   15443 non-null float64\n",
        "\"con.201402\"                   15512 non-null float64\n",
        "\"con.201403\"                   15553 non-null float64\n",
        "\"con.201404\"                   15604 non-null float64\n",
        "\"con.201405\"                   15706 non-null float64\n",
        "\"con.201406\"                   15776 non-null float64\n",
        "\"con.201407\"                   15848 non-null float64\n",
        "\"con.201408\"                   15928 non-null float64\n",
        "\"con.201409\"                   16020 non-null float64\n",
        "\"con.201410\"                   16093 non-null float64\n",
        "\"con.201411\"                   15999 non-null float64\n",
        "\"con.201412\"                   2531 non-null float64\n",
        "COM_SERVICE_NO                 16214 non-null int64\n",
        "COMPMNTH                       16214 non-null object\n",
        "OCRM_NAME                      16214 non-null int64\n",
        "IND                            16214 non-null int64\n",
        "\"\".1                           16214 non-null object\n",
        "\"X\"                            16214 non-null int64\n",
        "\"ID\".1                         16214 non-null int64\n",
        "\"No.of time payment done\"      16214 non-null int64\n",
        "\"average amount per month\"     15795 non-null float64\n",
        "\"IND\".1                        16214 non-null int64\n",
        "dtypes: float64(33), int64(9), object(13)\n",
        "memory usage: 6.9+ MB\n"
       ]
      }
     ],
     "prompt_number": 27
    },
    {
     "cell_type": "markdown",
     "metadata": {},
     "source": [
      "mergef.head()"
     ]
    },
    {
     "cell_type": "code",
     "collapsed": false,
     "input": [
      "import matplotlib.pyplot as plt\n",
      "average_1=mergef[mergef['IND']==1]['\"average amount per month\"']"
     ],
     "language": "python",
     "metadata": {},
     "outputs": [],
     "prompt_number": 33
    },
    {
     "cell_type": "code",
     "collapsed": false,
     "input": [
      "average_1.mean()"
     ],
     "language": "python",
     "metadata": {},
     "outputs": [
      {
       "metadata": {},
       "output_type": "pyout",
       "prompt_number": 35,
       "text": [
        "14099.481016714972"
       ]
      }
     ],
     "prompt_number": 35
    },
    {
     "cell_type": "code",
     "collapsed": false,
     "input": [
      "average_0=mergef[mergef['IND']==0]['\"average amount per month\"']"
     ],
     "language": "python",
     "metadata": {},
     "outputs": [],
     "prompt_number": 36
    },
    {
     "cell_type": "code",
     "collapsed": false,
     "input": [
      "average_0.mean()"
     ],
     "language": "python",
     "metadata": {},
     "outputs": [
      {
       "metadata": {},
       "output_type": "pyout",
       "prompt_number": 37,
       "text": [
        "13106.459482781573"
       ]
      }
     ],
     "prompt_number": 37
    },
    {
     "cell_type": "code",
     "collapsed": false,
     "input": [
      "billvalues=mergef[['\"con.201308\"','\"con.201309\"','\"con.201310\"','\"con.201311\"','\"con.201312\"','\"con.201401\"','\"con.201402\"','\"con.201403\"','\"con.201404\"','\"con.201405\"','\"con.201406\"','\"con.201407\"','\"con.201408\"','\"con.201409\"','\"con.201410\"','\"con.201411\"','\"con.201412\"']]\n"
     ],
     "language": "python",
     "metadata": {},
     "outputs": [],
     "prompt_number": 43
    },
    {
     "cell_type": "code",
     "collapsed": false,
     "input": [
      "sbillvalues.std(axis=1)"
     ],
     "language": "python",
     "metadata": {},
     "outputs": [
      {
       "metadata": {},
       "output_type": "pyout",
       "prompt_number": 45,
       "text": [
        "0      46.741844\n",
        "1      91.195612\n",
        "2      57.076228\n",
        "3     102.603363\n",
        "4     100.030641\n",
        "5     107.573212\n",
        "6      37.741611\n",
        "7      94.644224\n",
        "8      51.566785\n",
        "9      49.508080\n",
        "10     44.137475\n",
        "11     25.099801\n",
        "12    156.508519\n",
        "13     38.660865\n",
        "14     38.202476\n",
        "...\n",
        "16199     409.368273\n",
        "16200     265.307110\n",
        "16201    1979.007360\n",
        "16202      13.869116\n",
        "16203     144.352842\n",
        "16204     300.853706\n",
        "16205     165.399430\n",
        "16206    8384.220201\n",
        "16207    1540.204959\n",
        "16208            NaN\n",
        "16209            NaN\n",
        "16210            NaN\n",
        "16211            NaN\n",
        "16212            NaN\n",
        "16213            NaN\n",
        "Length: 16214, dtype: float64"
       ]
      }
     ],
     "prompt_number": 45
    },
    {
     "cell_type": "code",
     "collapsed": false,
     "input": [
      "import pandas as pd\n",
      "import numpy as np\n",
      "complaints=pd.read_csv('/home/rsrihari/Downloads/CommComplaints_IDvscomplain.txt')\n",
      "complaints.info()"
     ],
     "language": "python",
     "metadata": {},
     "outputs": [
      {
       "output_type": "stream",
       "stream": "stdout",
       "text": [
        "<class 'pandas.core.frame.DataFrame'>\n",
        "Int64Index: 16215 entries, 17961 to 8481104999\n",
        "Data columns (total 3 columns):\n",
        "COM_SERVICE_NO    16215 non-null object\n",
        "COMPMNTH          16215 non-null int64\n",
        "OCRM_NAME         16215 non-null int64\n",
        "dtypes: int64(2), object(1)\n",
        "memory usage: 506.7+ KB\n"
       ]
      }
     ],
     "prompt_number": 46
    },
    {
     "cell_type": "code",
     "collapsed": false,
     "input": [
      "import pandas as pd\n",
      "import numpy as np\n",
      "complaints=pd.read_csv('/home/rsrihari/Downloads/CommComplaints_IDvscomplain(1).txt')\n",
      "complaints[complaints['COMPMNTH']!='NoComplain'].head(20)"
     ],
     "language": "python",
     "metadata": {},
     "outputs": [
      {
       "html": [
        "<div style=\"max-height:1000px;max-width:1500px;overflow:auto;\">\n",
        "<table border=\"1\" class=\"dataframe\">\n",
        "  <thead>\n",
        "    <tr style=\"text-align: right;\">\n",
        "      <th></th>\n",
        "      <th>COM_SERVICE_NO</th>\n",
        "      <th>COMPMNTH</th>\n",
        "      <th>OCRM_NAME</th>\n",
        "      <th>IND</th>\n",
        "    </tr>\n",
        "  </thead>\n",
        "  <tbody>\n",
        "    <tr>\n",
        "      <th>1452</th>\n",
        "      <td> 10000921</td>\n",
        "      <td> Nov-13</td>\n",
        "      <td> 1</td>\n",
        "      <td> 0</td>\n",
        "    </tr>\n",
        "    <tr>\n",
        "      <th>1453</th>\n",
        "      <td> 10006711</td>\n",
        "      <td> Nov-11</td>\n",
        "      <td> 0</td>\n",
        "      <td> 0</td>\n",
        "    </tr>\n",
        "    <tr>\n",
        "      <th>1455</th>\n",
        "      <td> 10018111</td>\n",
        "      <td> Oct-13</td>\n",
        "      <td> 1</td>\n",
        "      <td> 1</td>\n",
        "    </tr>\n",
        "    <tr>\n",
        "      <th>1457</th>\n",
        "      <td> 10025921</td>\n",
        "      <td> Nov-13</td>\n",
        "      <td> 1</td>\n",
        "      <td> 0</td>\n",
        "    </tr>\n",
        "    <tr>\n",
        "      <th>1460</th>\n",
        "      <td> 10046231</td>\n",
        "      <td> Nov-14</td>\n",
        "      <td> 0</td>\n",
        "      <td> 1</td>\n",
        "    </tr>\n",
        "    <tr>\n",
        "      <th>1461</th>\n",
        "      <td> 10048201</td>\n",
        "      <td> Dec-12</td>\n",
        "      <td> 1</td>\n",
        "      <td> 1</td>\n",
        "    </tr>\n",
        "    <tr>\n",
        "      <th>1462</th>\n",
        "      <td> 10048721</td>\n",
        "      <td> Apr-13</td>\n",
        "      <td> 0</td>\n",
        "      <td> 1</td>\n",
        "    </tr>\n",
        "    <tr>\n",
        "      <th>1463</th>\n",
        "      <td> 10052651</td>\n",
        "      <td> Jan-12</td>\n",
        "      <td> 0</td>\n",
        "      <td> 0</td>\n",
        "    </tr>\n",
        "    <tr>\n",
        "      <th>1464</th>\n",
        "      <td> 10055951</td>\n",
        "      <td> Oct-14</td>\n",
        "      <td> 0</td>\n",
        "      <td> 0</td>\n",
        "    </tr>\n",
        "    <tr>\n",
        "      <th>1467</th>\n",
        "      <td> 10065241</td>\n",
        "      <td> Nov-11</td>\n",
        "      <td> 0</td>\n",
        "      <td> 0</td>\n",
        "    </tr>\n",
        "    <tr>\n",
        "      <th>1468</th>\n",
        "      <td> 10066051</td>\n",
        "      <td> Nov-13</td>\n",
        "      <td> 1</td>\n",
        "      <td> 0</td>\n",
        "    </tr>\n",
        "    <tr>\n",
        "      <th>1469</th>\n",
        "      <td> 10067121</td>\n",
        "      <td> Jul-12</td>\n",
        "      <td> 0</td>\n",
        "      <td> 1</td>\n",
        "    </tr>\n",
        "    <tr>\n",
        "      <th>1470</th>\n",
        "      <td> 10070041</td>\n",
        "      <td> Jun-13</td>\n",
        "      <td> 1</td>\n",
        "      <td> 1</td>\n",
        "    </tr>\n",
        "    <tr>\n",
        "      <th>1472</th>\n",
        "      <td> 10076841</td>\n",
        "      <td> Sep-13</td>\n",
        "      <td> 0</td>\n",
        "      <td> 1</td>\n",
        "    </tr>\n",
        "    <tr>\n",
        "      <th>1474</th>\n",
        "      <td> 10083611</td>\n",
        "      <td> May-13</td>\n",
        "      <td> 1</td>\n",
        "      <td> 1</td>\n",
        "    </tr>\n",
        "    <tr>\n",
        "      <th>1476</th>\n",
        "      <td> 10090841</td>\n",
        "      <td> May-14</td>\n",
        "      <td> 0</td>\n",
        "      <td> 0</td>\n",
        "    </tr>\n",
        "    <tr>\n",
        "      <th>1479</th>\n",
        "      <td> 10096201</td>\n",
        "      <td> Nov-11</td>\n",
        "      <td> 1</td>\n",
        "      <td> 0</td>\n",
        "    </tr>\n",
        "    <tr>\n",
        "      <th>1480</th>\n",
        "      <td> 10096951</td>\n",
        "      <td> May-13</td>\n",
        "      <td> 1</td>\n",
        "      <td> 0</td>\n",
        "    </tr>\n",
        "    <tr>\n",
        "      <th>1482</th>\n",
        "      <td> 10110621</td>\n",
        "      <td> Oct-14</td>\n",
        "      <td> 1</td>\n",
        "      <td> 0</td>\n",
        "    </tr>\n",
        "    <tr>\n",
        "      <th>1483</th>\n",
        "      <td> 10112041</td>\n",
        "      <td> Dec-11</td>\n",
        "      <td> 0</td>\n",
        "      <td> 1</td>\n",
        "    </tr>\n",
        "  </tbody>\n",
        "</table>\n",
        "</div>"
       ],
       "metadata": {},
       "output_type": "pyout",
       "prompt_number": 54,
       "text": [
        "      COM_SERVICE_NO COMPMNTH  OCRM_NAME  IND\n",
        "1452        10000921   Nov-13          1    0\n",
        "1453        10006711   Nov-11          0    0\n",
        "1455        10018111   Oct-13          1    1\n",
        "1457        10025921   Nov-13          1    0\n",
        "1460        10046231   Nov-14          0    1\n",
        "1461        10048201   Dec-12          1    1\n",
        "1462        10048721   Apr-13          0    1\n",
        "1463        10052651   Jan-12          0    0\n",
        "1464        10055951   Oct-14          0    0\n",
        "1467        10065241   Nov-11          0    0\n",
        "1468        10066051   Nov-13          1    0\n",
        "1469        10067121   Jul-12          0    1\n",
        "1470        10070041   Jun-13          1    1\n",
        "1472        10076841   Sep-13          0    1\n",
        "1474        10083611   May-13          1    1\n",
        "1476        10090841   May-14          0    0\n",
        "1479        10096201   Nov-11          1    0\n",
        "1480        10096951   May-13          1    0\n",
        "1482        10110621   Oct-14          1    0\n",
        "1483        10112041   Dec-11          0    1"
       ]
      }
     ],
     "prompt_number": 54
    },
    {
     "cell_type": "code",
     "collapsed": false,
     "input": [
      "import pandas as pd\n",
      "import numpy as np\n",
      "xlfile=pd.ExcelFile('/home/rsrihari/Documents/DataPowercons/vigilance_final.xlsx')\n",
      "df=xlfile.parse('Sheet1')"
     ],
     "language": "python",
     "metadata": {},
     "outputs": [],
     "prompt_number": 55
    },
    {
     "cell_type": "code",
     "collapsed": false,
     "input": [
      "dfcriminals=df[df['IND']==1]"
     ],
     "language": "python",
     "metadata": {},
     "outputs": [],
     "prompt_number": 57
    },
    {
     "cell_type": "code",
     "collapsed": false,
     "input": [
      "dfcriminals.shape"
     ],
     "language": "python",
     "metadata": {},
     "outputs": [
      {
       "metadata": {},
       "output_type": "pyout",
       "prompt_number": 61,
       "text": [
        "(7316, 4)"
       ]
      }
     ],
     "prompt_number": 61
    },
    {
     "cell_type": "code",
     "collapsed": false,
     "input": [
      "import pandas as pd\n",
      "import numpy as np\n",
      "xlfile=pd.ExcelFile('/home/rsrihari/Documents/DataPowercons/prediction_final.xlsx')\n",
      "dfpred=xlfile.parse('Sheet1')"
     ],
     "language": "python",
     "metadata": {},
     "outputs": [],
     "prompt_number": 4
    },
    {
     "cell_type": "code",
     "collapsed": false,
     "input": [
      "dfpred.shape"
     ],
     "language": "python",
     "metadata": {},
     "outputs": [
      {
       "metadata": {},
       "output_type": "pyout",
       "prompt_number": 60,
       "text": [
        "(2946, 2)"
       ]
      }
     ],
     "prompt_number": 60
    },
    {
     "cell_type": "code",
     "collapsed": false,
     "input": [
      "xlfile=pd.ExcelFile('/home/rsrihari/Documents/DataPowercons/Commercial Complaint details_done.xlsx')\n",
      "comm=xlfile.parse('Sheet1')\n",
      "comm.head()"
     ],
     "language": "python",
     "metadata": {},
     "outputs": [
      {
       "html": [
        "<div style=\"max-height:1000px;max-width:1500px;overflow:auto;\">\n",
        "<table border=\"1\" class=\"dataframe\">\n",
        "  <thead>\n",
        "    <tr style=\"text-align: right;\">\n",
        "      <th></th>\n",
        "      <th>COMNO</th>\n",
        "      <th>COM_SERVICE_NO</th>\n",
        "      <th>ALLOCATIONDATE</th>\n",
        "      <th>COMPDATE</th>\n",
        "      <th>COMPMNTH</th>\n",
        "      <th>OCRM_NAME</th>\n",
        "      <th>WORKCOMPLETIONDATE</th>\n",
        "      <th>COM_STATUS</th>\n",
        "      <th>COM_BU</th>\n",
        "      <th>COM_PC</th>\n",
        "      <th>HOUR</th>\n",
        "    </tr>\n",
        "  </thead>\n",
        "  <tbody>\n",
        "    <tr>\n",
        "      <th>0</th>\n",
        "      <td> CB/23/05/11/814</td>\n",
        "      <td> 74789261</td>\n",
        "      <td>2011-05-24</td>\n",
        "      <td>2011-05-23</td>\n",
        "      <td>2011-05-01</td>\n",
        "      <td>                      Payment not reflected</td>\n",
        "      <td>2011-05-25</td>\n",
        "      <td> Work Completion(Close)</td>\n",
        "      <td> 4684</td>\n",
        "      <td> 4</td>\n",
        "      <td> 1900-01-02 05:38:00</td>\n",
        "    </tr>\n",
        "    <tr>\n",
        "      <th>1</th>\n",
        "      <td> CM/23/05/11/815</td>\n",
        "      <td> 99425821</td>\n",
        "      <td>2011-05-25</td>\n",
        "      <td>2011-05-23</td>\n",
        "      <td>2011-05-01</td>\n",
        "      <td>                                 Meter fast</td>\n",
        "      <td>2011-03-24</td>\n",
        "      <td> Work Completion(Close)</td>\n",
        "      <td> 4687</td>\n",
        "      <td> 2</td>\n",
        "      <td>           -1433:-42</td>\n",
        "    </tr>\n",
        "    <tr>\n",
        "      <th>2</th>\n",
        "      <td> CB/23/05/11/816</td>\n",
        "      <td>  1644921</td>\n",
        "      <td>2011-05-25</td>\n",
        "      <td>2011-05-23</td>\n",
        "      <td>2011-05-01</td>\n",
        "      <td>                                 Wrong bill</td>\n",
        "      <td>2011-05-24</td>\n",
        "      <td> Work Completion(Close)</td>\n",
        "      <td> 4687</td>\n",
        "      <td> 2</td>\n",
        "      <td> 1900-01-01 06:16:00</td>\n",
        "    </tr>\n",
        "    <tr>\n",
        "      <th>3</th>\n",
        "      <td> CB/25/05/11/892</td>\n",
        "      <td> 20816151</td>\n",
        "      <td>2011-05-25</td>\n",
        "      <td>2011-05-25</td>\n",
        "      <td>2011-05-01</td>\n",
        "      <td> Bill Received - Request for duplicate bill</td>\n",
        "      <td>2011-05-25</td>\n",
        "      <td> Work Completion(Close)</td>\n",
        "      <td> 4687</td>\n",
        "      <td> 2</td>\n",
        "      <td>            00:01:00</td>\n",
        "    </tr>\n",
        "    <tr>\n",
        "      <th>4</th>\n",
        "      <td> CB/25/05/11/890</td>\n",
        "      <td> 16147721</td>\n",
        "      <td>2011-05-25</td>\n",
        "      <td>2011-05-25</td>\n",
        "      <td>2011-05-01</td>\n",
        "      <td> Bill Received - Request for duplicate bill</td>\n",
        "      <td>2011-05-25</td>\n",
        "      <td> Work Completion(Close)</td>\n",
        "      <td> 4687</td>\n",
        "      <td> 2</td>\n",
        "      <td>            00:02:00</td>\n",
        "    </tr>\n",
        "  </tbody>\n",
        "</table>\n",
        "</div>"
       ],
       "metadata": {},
       "output_type": "pyout",
       "prompt_number": 5,
       "text": [
        "             COMNO  COM_SERVICE_NO ALLOCATIONDATE   COMPDATE   COMPMNTH  \\\n",
        "0  CB/23/05/11/814        74789261     2011-05-24 2011-05-23 2011-05-01   \n",
        "1  CM/23/05/11/815        99425821     2011-05-25 2011-05-23 2011-05-01   \n",
        "2  CB/23/05/11/816         1644921     2011-05-25 2011-05-23 2011-05-01   \n",
        "3  CB/25/05/11/892        20816151     2011-05-25 2011-05-25 2011-05-01   \n",
        "4  CB/25/05/11/890        16147721     2011-05-25 2011-05-25 2011-05-01   \n",
        "\n",
        "                                    OCRM_NAME WORKCOMPLETIONDATE  \\\n",
        "0                       Payment not reflected         2011-05-25   \n",
        "1                                  Meter fast         2011-03-24   \n",
        "2                                  Wrong bill         2011-05-24   \n",
        "3  Bill Received - Request for duplicate bill         2011-05-25   \n",
        "4  Bill Received - Request for duplicate bill         2011-05-25   \n",
        "\n",
        "               COM_STATUS  COM_BU  COM_PC                 HOUR  \n",
        "0  Work Completion(Close)    4684       4  1900-01-02 05:38:00  \n",
        "1  Work Completion(Close)    4687       2            -1433:-42  \n",
        "2  Work Completion(Close)    4687       2  1900-01-01 06:16:00  \n",
        "3  Work Completion(Close)    4687       2             00:01:00  \n",
        "4  Work Completion(Close)    4687       2             00:02:00  "
       ]
      }
     ],
     "prompt_number": 5
    },
    {
     "cell_type": "code",
     "collapsed": false,
     "input": [
      "typesofcomm=comm['OCRM_NAME'].unique()\n",
      "from collections import defaultdict\n",
      "types=defaultdict(int)\n",
      "for i in typesofcomm:\n",
      "    types[i]=comm[comm['OCRM_NAME']==i].shape[0]"
     ],
     "language": "python",
     "metadata": {},
     "outputs": [],
     "prompt_number": 6
    },
    {
     "cell_type": "code",
     "collapsed": false,
     "input": [
      "for i in types.keys():\n",
      "    if types[i]<10:\n",
      "        print i"
     ],
     "language": "python",
     "metadata": {},
     "outputs": [
      {
       "output_type": "stream",
       "stream": "stdout",
       "text": [
        "Meter To Be Taken Out\n",
        "Install Meter On Appropriate Height\n",
        "Meter RTC Fail\n",
        "Consumer No Not Written\n",
        "Consumer Refuse To Obtain Reading\n",
        "Meter Cover Seal Broken\n",
        "Hole found on the Meter Cover\n",
        "Address Not Traceble\n"
       ]
      }
     ],
     "prompt_number": 8
    },
    {
     "cell_type": "code",
     "collapsed": false,
     "input": [
      "top_threshold=0.8\n",
      "bottom_threshold=0.15\n",
      "criminals=0\n",
      "notcriminals=0\n",
      "for i in types.keys():\n",
      "    criminals=0\n",
      "    notcriminals=0\n",
      "    for j in comm[comm['OCRM_NAME']==i]['COM_SERVICE_NO']:\n",
      "        if j in ids_1:\n",
      "            criminals+=1\n",
      "        if j in ids_0:\n",
      "            notcriminals+=1\n",
      "    val=float(criminals)/(1+criminals+notcriminals)\n",
      "    print i, criminals,'/',(criminals+notcriminals), val"
     ],
     "language": "python",
     "metadata": {},
     "outputs": []
    },
    {
     "cell_type": "code",
     "collapsed": false,
     "input": [],
     "language": "python",
     "metadata": {},
     "outputs": [
      {
       "metadata": {},
       "output_type": "pyout",
       "prompt_number": 16,
       "text": [
        "17081"
       ]
      }
     ],
     "prompt_number": 16
    },
    {
     "cell_type": "code",
     "collapsed": false,
     "input": [
      "comm['COM_BU'].unique()"
     ],
     "language": "python",
     "metadata": {},
     "outputs": [
      {
       "metadata": {},
       "output_type": "pyout",
       "prompt_number": 17,
       "text": [
        "array([4684, 4687, 4680, 7978, 4679, 4678, 4685, 4686, 4688, 4689, 7960,\n",
        "       7943,  699, 4872])"
       ]
      }
     ],
     "prompt_number": 17
    },
    {
     "cell_type": "code",
     "collapsed": false,
     "input": [],
     "language": "python",
     "metadata": {},
     "outputs": []
    }
   ],
   "metadata": {}
  }
 ]
}